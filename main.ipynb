{
 "cells": [
  {
   "cell_type": "markdown",
   "metadata": {},
   "source": [
    "# Globaleaks - Demo Report"
   ]
  },
  {
   "cell_type": "code",
   "execution_count": 1103,
   "metadata": {},
   "outputs": [
    {
     "name": "stdout",
     "output_type": "stream",
     "text": [
      "Requirement already satisfied: reportlab in ./.venv/lib/python3.9/site-packages (4.0.8)\n",
      "Requirement already satisfied: chardet in ./.venv/lib/python3.9/site-packages (from reportlab) (5.2.0)\n",
      "Requirement already satisfied: pillow>=9.0.0 in ./.venv/lib/python3.9/site-packages (from reportlab) (10.1.0)\n",
      "\u001b[33mWARNING: You are using pip version 22.0.4; however, version 23.3.2 is available.\n",
      "You should consider upgrading via the '/home/seidor/Reportlab/.venv/bin/python -m pip install --upgrade pip' command.\u001b[0m\u001b[33m\n",
      "\u001b[0mNote: you may need to restart the kernel to use updated packages.\n"
     ]
    }
   ],
   "source": [
    "pip install reportlab"
   ]
  },
  {
   "cell_type": "markdown",
   "metadata": {},
   "source": [
    "#### Libraries"
   ]
  },
  {
   "cell_type": "code",
   "execution_count": 1104,
   "metadata": {},
   "outputs": [],
   "source": [
    "from reportlab.lib.pagesizes import A4\n",
    "from reportlab.platypus import SimpleDocTemplate, Table, TableStyle, Spacer, Image, Paragraph,PageTemplate, Frame\n",
    "from reportlab.lib.units import inch\n",
    "from reportlab.lib import colors"
   ]
  },
  {
   "cell_type": "markdown",
   "metadata": {},
   "source": [
    "#### Create a table style"
   ]
  },
  {
   "cell_type": "code",
   "execution_count": 1105,
   "metadata": {},
   "outputs": [],
   "source": [
    "ts = TableStyle(\n",
    "    [\n",
    "        ('BOX', (0, 0), (-1, -1), 1, colors.black),\n",
    "        ('GRID', (0, 0), (-1, -1), 1, colors.black),\n",
    "        ('FONTSIZE', (0, 0), (-1, 0), 12),\n",
    "        ('TEXTFONT', (0, 0), (-1, 0), 'Times-Bold'),\n",
    "        ('BACKGROUND', (0, 0), (-1, 0), colors.lightblue),\n",
    "        ('TEXTCOLOR', (0, 0), (-1, 0), colors.black),\n",
    "        ('ALIGN', (0, 0), (-1, -1), 'CENTER'),\n",
    "    ]\n",
    ")"
   ]
  },
  {
   "cell_type": "markdown",
   "metadata": {},
   "source": [
    "#### Sample data tables"
   ]
  },
  {
   "cell_type": "code",
   "execution_count": 1106,
   "metadata": {},
   "outputs": [],
   "source": [
    "data1 = [\n",
    "    [\"#\", \"Date\", \"Last update\", \"Expiration date\", \"Reminder date\", \"msg\", \"Tor\", \"Status\"],\n",
    "    [\"1\", \"07-11-2023\", \"Data3\", \"Data4\", \"Data5\", \"Data6\", \"Data7\", \"Data8\"],\n",
    "    [\"2\", \"08-12-2023\", \"Data3\", \"Data4\", \"Data5\", \"Data6\", \"Data7\", \"Data8\"],\n",
    "    [\"3\", \"13-12-2023\", \"Data3\", \"Data4\", \"Data5\", \"Data6\", \"Data7\", \"Data8\"],\n",
    "    [\"4\", \"24-12-2023\", \"Data3\", \"Data4\", \"Data5\", \"Data6\", \"Data7\", \"Data8\"],\n",
    "    [\"5\", \"30-12-2023\", \"Data3\", \"Data4\", \"Data5\", \"Data6\", \"Data7\", \"Data8\"]\n",
    "]\n",
    "# Create the first table\n",
    "t1 = Table(data1,hAlign='LEFT')\n",
    "t1.setStyle(ts)\n"
   ]
  },
  {
   "cell_type": "code",
   "execution_count": 1107,
   "metadata": {},
   "outputs": [],
   "source": [
    "data2 = [\n",
    "[\"      Question        \",\"     Answer       \"],\n",
    "[\"1.Q1\",\"Ans1\"],\n",
    "[\"2.Q2\",\"Ans2\"],\n",
    "[\"3.Q3\",\"Ans3\"]\n",
    "]\n",
    "# Create the second table\n",
    "t2 = Table(data2,hAlign='LEFT')\n",
    "t2.setStyle(ts)"
   ]
  },
  {
   "cell_type": "code",
   "execution_count": 1108,
   "metadata": {},
   "outputs": [],
   "source": [
    "data3 =[\n",
    "    [\"Content type\",\"Date\",\"Time\",\"Size\"],\n",
    "    [\"eveyone.txt\",\"07-11-2023\",\"15:11\",\"2 B\"],\n",
    "    [\"file.pdf\",\"07-11-2023\",\"12:10\",\"12 MB\"],\n",
    "    [\"photo.jpeg\",\"01-01-2024\",\"14:15\",\"1 MB\"],\n",
    "    [\"table.csv\",\"02-01-2024\",\"1:18\",\"13 KB\"],\n",
    "    [\"\",\"\",\"\",\"\"],\n",
    "    [\"\",\"\",\"\",\"\"]\n",
    "]\n",
    "# Create the third table\n",
    "t3 = Table(data3,hAlign='LEFT')\n",
    "t3.setStyle(ts)"
   ]
  },
  {
   "cell_type": "code",
   "execution_count": 1109,
   "metadata": {},
   "outputs": [],
   "source": [
    "data4 =[\n",
    "    [\"Content type\",\"Date\",\"Time\",\"Size\"],\n",
    "    [\"eveyone.txt\",\"07-11-2023\",\"15:11\",\"2 B\"],\n",
    "    [\"\",\"\",\"\",\"\"],\n",
    "    [\"\",\"\",\"\",\"\"],\n",
    "    [\"\",\"\",\"\",\"\"],\n",
    "    [\"\",\"\",\"\",\"\"],\n",
    "    [\"\",\"\",\"\",\"\"],\n",
    "    [\"\",\"\",\"\",\"\"],\n",
    "    [\"\",\"\",\"\",\"\"],\n",
    "]\n",
    "# Create the fourth table\n",
    "t4 = Table(data4,hAlign='LEFT')\n",
    "t4.setStyle(ts)"
   ]
  },
  {
   "cell_type": "code",
   "execution_count": 1110,
   "metadata": {},
   "outputs": [],
   "source": [
    "data5 =[\n",
    "    [\"Date\",\"Name\",\"Comments\"],\n",
    "    [\"\",\"\",\"\"],\n",
    "    [\"\",\"\",\"\"],\n",
    "    [\"\",\"\",\"\"],\n",
    "    [\"\",\"\",\"\"],\n",
    "    [\"\",\"\",\"\"],\n",
    "    [\"\",\"\",\"\"],\n",
    "    [\"\",\"\",\"\"],\n",
    "]\n",
    "# Create the fifth table\n",
    "t5 = Table(data5,hAlign='LEFT')\n",
    "t5.setStyle(ts)"
   ]
  },
  {
   "cell_type": "code",
   "execution_count": 1111,
   "metadata": {},
   "outputs": [],
   "source": [
    "data6 =[\n",
    "    [\"Content type\",\"Date\",\"Time\",\"Size\"],\n",
    "    [\"eveyone.txt\",\"07-11-2023\",\"15:11\",\"2 B\"],\n",
    "    [\"\",\"\",\"\",\"\"],\n",
    "    [\"\",\"\",\"\",\"\"],\n",
    "    [\"\",\"\",\"\",\"\"],\n",
    "    [\"\",\"\",\"\",\"\"],\n",
    "    [\"\",\"\",\"\",\"\"],\n",
    "    [\"\",\"\",\"\",\"\"],\n",
    "    [\"\",\"\",\"\",\"\"]\n",
    "]\n",
    "# Create the sixth table\n",
    "t6= Table(data6,hAlign='LEFT')\n",
    "t6.setStyle(ts)"
   ]
  },
  {
   "cell_type": "markdown",
   "metadata": {},
   "source": [
    "#### Load the image"
   ]
  },
  {
   "cell_type": "code",
   "execution_count": 1112,
   "metadata": {},
   "outputs": [],
   "source": [
    "image_path = \"./assets/download.png\"  # Replace with your image path\n",
    "img = Image(image_path, width=1.5 * inch, height=1.5 * inch, hAlign='LEFT')"
   ]
  },
  {
   "cell_type": "markdown",
   "metadata": {},
   "source": [
    "#### Generate story and build PDF"
   ]
  },
  {
   "cell_type": "code",
   "execution_count": 1113,
   "metadata": {},
   "outputs": [],
   "source": [
    "elems = []\n",
    "elems.append(img) "
   ]
  },
  {
   "cell_type": "markdown",
   "metadata": {},
   "source": [
    "#### Create a title paragraph"
   ]
  },
  {
   "cell_type": "code",
   "execution_count": 1114,
   "metadata": {},
   "outputs": [],
   "source": [
    "title_text = \"<b>Globaleaks</b>\"\n",
    "title_paragraph = Paragraph(title_text, style=None)\n",
    "\n",
    "subtitle_text = \"<i>Demo-Report</i>\"\n",
    "subtitle_paragraph = Paragraph(subtitle_text, style=None)"
   ]
  },
  {
   "cell_type": "code",
   "execution_count": null,
   "metadata": {},
   "outputs": [],
   "source": [
    "status_text = \"Status: \"\n",
    "status_paragraph = Paragraph(status_text, style=None)\n",
    "\n",
    "id_text = \"ID: \"\n",
    "id_paragraph = Paragraph(id_text, style=None)\n",
    "\n",
    "subtitle_text2 = \"<b>Questionnaire answers</b>\"\n",
    "subtitle_paragraph2 = Paragraph(subtitle_text2, style=None)\n",
    "\n",
    "subtitle_text3 = \"<b>Attachments</b>\"\n",
    "subtitle_paragraph3 = Paragraph(subtitle_text3, style=None)"
   ]
  },
  {
   "cell_type": "code",
   "execution_count": null,
   "metadata": {},
   "outputs": [],
   "source": [
    "title_text2 = \"<b>Everyone</b>\"\n",
    "title_paragraph2 = Paragraph(title_text2, style=None)\n",
    "\n",
    "subtitle_text4 = \"<b>Files attached by recipients</b>\"\n",
    "subtitle_paragraph4 = Paragraph(subtitle_text4, style=None)\n",
    "\n",
    "subtitle_text5 = \"<b>Comments</b>\"\n",
    "subtitle_paragraph5 = Paragraph(subtitle_text5, style=None)\n",
    "\n",
    "subtitle_text6 = \"<b>Recipients only</b>\"\n",
    "subtitle_paragraph6 = Paragraph(subtitle_text6, style=None)\n",
    "\n",
    "subtitle_text7 = \"<b>Files attached by recipients</b>\"\n",
    "subtitle_paragraph7 = Paragraph(subtitle_text7, style=None)\n",
    "\n",
    "subtitle_text8 = \"<b>Comments</b>\"\n",
    "subtitle_paragraph8 = Paragraph(subtitle_text8, style=None)"
   ]
  },
  {
   "cell_type": "markdown",
   "metadata": {},
   "source": [
    "#### Adding title below the image"
   ]
  },
  {
   "cell_type": "code",
   "execution_count": null,
   "metadata": {},
   "outputs": [],
   "source": [
    "\n",
    "elems.append(title_paragraph)\n",
    "elems.append(subtitle_paragraph)\n",
    "elems.append(status_paragraph)\n",
    "elems.append(id_paragraph)"
   ]
  },
  {
   "cell_type": "markdown",
   "metadata": {},
   "source": [
    "#### Adding a spacer between the image, title, and table for separation"
   ]
  },
  {
   "cell_type": "code",
   "execution_count": null,
   "metadata": {},
   "outputs": [],
   "source": [
    "elems.extend([Spacer(1, 0.2 * inch), t1])\n",
    "elems.extend([Spacer(1, 0.2 * inch),subtitle_paragraph2])\n",
    "elems.extend([Spacer(1, 0.2 * inch), t2])\n",
    "elems.extend([Spacer(1, 0.2 * inch),subtitle_paragraph3])\n",
    "elems.extend([Spacer(1, 0.2 * inch), t3])\n",
    "elems.extend([Spacer(1, 0.2 * inch),title_paragraph2])\n",
    "elems.extend([Spacer(1, 0.2 * inch),subtitle_paragraph4])\n",
    "elems.extend([Spacer(1, 0.2 * inch), t4])\n",
    "elems.extend([Spacer(1, 0.2 * inch),subtitle_paragraph5])\n",
    "elems.extend([Spacer(1, 0.2 * inch), t5])\n",
    "elems.extend([Spacer(1, 0.2 * inch),subtitle_paragraph6])\n",
    "elems.extend([Spacer(1, 0.2 * inch),subtitle_paragraph7])\n",
    "elems.extend([Spacer(1, 0.2 * inch), t6])\n",
    "\n",
    "doc = SimpleDocTemplate(\"table.pdf\", pagesize=A4, rightMargin=0.5 * inch, leftMargin=0.5 * inch,\n",
    "                        topMargin=0.5 * inch, bottomMargin=0.5 * inch)\n",
    "\n",
    "story = []\n",
    "story.extend(elems)\n",
    "doc.build(story)"
   ]
  }
 ],
 "metadata": {
  "kernelspec": {
   "display_name": ".venv",
   "language": "python",
   "name": "python3"
  },
  "language_info": {
   "codemirror_mode": {
    "name": "ipython",
    "version": 3
   },
   "file_extension": ".py",
   "mimetype": "text/x-python",
   "name": "python",
   "nbconvert_exporter": "python",
   "pygments_lexer": "ipython3",
   "version": "3.9.12"
  },
  "orig_nbformat": 4
 },
 "nbformat": 4,
 "nbformat_minor": 2
}
