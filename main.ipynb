{
 "cells": [
  {
   "cell_type": "code",
   "execution_count": 27,
   "metadata": {},
   "outputs": [
    {
     "name": "stdout",
     "output_type": "stream",
     "text": [
      "Requirement already satisfied: reportlab in ./.venv/lib/python3.9/site-packages (4.0.8)\n",
      "Requirement already satisfied: chardet in ./.venv/lib/python3.9/site-packages (from reportlab) (5.2.0)\n",
      "Requirement already satisfied: pillow>=9.0.0 in ./.venv/lib/python3.9/site-packages (from reportlab) (10.1.0)\n",
      "\u001b[33mWARNING: You are using pip version 22.0.4; however, version 23.3.2 is available.\n",
      "You should consider upgrading via the '/home/seidor/Reportlab/.venv/bin/python -m pip install --upgrade pip' command.\u001b[0m\u001b[33m\n",
      "\u001b[0mNote: you may need to restart the kernel to use updated packages.\n"
     ]
    }
   ],
   "source": [
    "pip install reportlab"
   ]
  },
  {
   "cell_type": "code",
   "execution_count": 71,
   "metadata": {},
   "outputs": [],
   "source": [
    "import json\n",
    "from reportlab.lib.pagesizes import A4\n",
    "from reportlab.lib.styles import getSampleStyleSheet\n",
    "from reportlab.lib import colors\n",
    "from reportlab.platypus import Table, TableStyle, SimpleDocTemplate, Spacer, Paragraph,Frame\n",
    "from reportlab.lib.units import inch\n",
    "\n",
    "# Sample JSON data with expanded columns to match eight columns\n",
    "# json_data = '''\n",
    "# {\n",
    "#     \"\": \"\",\n",
    "#     \"\": \"\",\n",
    "#     \"\":\"\" \n",
    "# }\n",
    "# '''\n",
    "\n",
    "# # Parse the JSON data\n",
    "# parsed_data = json.loads(json_data)\n",
    "\n",
    "# Convert JSON data to a list of lists for the table\n",
    "data = [[\"#\", \"Date\",\"Last update\",\"Expiration date\",\"Reminder date\",\"msg\",\"Tor\",\"Status\"]]\n",
    "for key, value in parsed_data.items():\n",
    "    data.append([key, value])\n",
    "\n",
    "styles = getSampleStyleSheet()\n",
    "\n",
    "# Create the table for the title and subtitle layout\n",
    "\n",
    "table = Table(data, repeatRows=1)\n",
    "numberofcols = len(data[0])\n",
    "\n",
    "ts = TableStyle(\n",
    "    [\n",
    "        ('BOX', (0, 0), (-1, -1), 2, colors.black),\n",
    "        ('LINEBEFORE', (2, 1), (2, -1), 2, colors.red),\n",
    "        ('GRID', (0, 1), (-1, -1), 2, colors.black),\n",
    "    ]\n",
    ")\n",
    "table.setStyle(ts)\n",
    "\n",
    "elems = []\n",
    "elems.append(table)\n",
    "\n",
    "story = []\n",
    "doc = SimpleDocTemplate(\n",
    "    \"blog.pdf\",\n",
    "    pagesize=A4,\n",
    "    bottomMargin=0.4 * inch,\n",
    "    topMargin=0.4 * inch,\n",
    "    rightMargin=0.8 * inch,\n",
    "    leftMargin=0.8 * inch,\n",
    ")\n",
    "\n",
    "title_frame = Frame(\n",
    "    doc.leftMargin,\n",
    "    doc.bottomMargin, \n",
    "    doc.width / 2 - 6,\n",
    "    0.6 * inch,\n",
    "    id='title_frame',\n",
    ")\n",
    "story.append(Spacer(1, 0.2 * inch))\n",
    "\n",
    "\n",
    "title_text = \"<b>Globaleaks</b>\"\n",
    "hAlign='LEFT'\n",
    "title_paragraph = Paragraph(title_text, styles['Title'])\n",
    "story.append(title_paragraph)\n",
    "\n",
    "\n",
    "image = Image(\"./assets/download.png\", 1 * inch, 1 * inch, hAlign='LEFT')\n",
    "story.append(image)\n",
    "# Spacer between title and table\n",
    "story.append(Spacer(1, 0.2 * inch))\n",
    "\n",
    "story.append(table)\n",
    "\n",
    "story.extend(elems)\n",
    "\n",
    "doc.build(story)\n",
    "\n"
   ]
  }
 ],
 "metadata": {
  "kernelspec": {
   "display_name": ".venv",
   "language": "python",
   "name": "python3"
  },
  "language_info": {
   "codemirror_mode": {
    "name": "ipython",
    "version": 3
   },
   "file_extension": ".py",
   "mimetype": "text/x-python",
   "name": "python",
   "nbconvert_exporter": "python",
   "pygments_lexer": "ipython3",
   "version": "3.9.12"
  },
  "orig_nbformat": 4
 },
 "nbformat": 4,
 "nbformat_minor": 2
}
